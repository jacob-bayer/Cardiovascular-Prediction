{
 "cells": [
  {
   "cell_type": "markdown",
   "metadata": {},
   "source": [
    "## CIS 9660 final project\n",
    "## XGBoost model"
   ]
  },
  {
   "cell_type": "code",
   "execution_count": 1,
   "metadata": {},
   "outputs": [],
   "source": [
    "## import packages\n",
    "import pandas as pd\n",
    "import numpy as np\n",
    "from sklearn import metrics\n",
    "from sklearn.model_selection import train_test_split, GridSearchCV, RandomizedSearchCV\n",
    "import xgboost as xgb\n",
    "\n",
    "import time\n",
    "import matplotlib.pyplot as plt\n",
    "import seaborn as sns\n",
    "pd.set_option('display.float_format', lambda x: '%.5f' % x)"
   ]
  },
  {
   "cell_type": "markdown",
   "metadata": {},
   "source": [
    "### 1. Import data"
   ]
  },
  {
   "cell_type": "code",
   "execution_count": 2,
   "metadata": {},
   "outputs": [],
   "source": [
    "## read cleaned data\n",
    "cardio_xgb = pd.read_csv('https://raw.githubusercontent.com/smeng0428/CIS9660/main/Final%20project/cardio_updated.csv')"
   ]
  },
  {
   "cell_type": "code",
   "execution_count": 3,
   "metadata": {},
   "outputs": [
    {
     "data": {
      "text/html": [
       "<div>\n",
       "<style scoped>\n",
       "    .dataframe tbody tr th:only-of-type {\n",
       "        vertical-align: middle;\n",
       "    }\n",
       "\n",
       "    .dataframe tbody tr th {\n",
       "        vertical-align: top;\n",
       "    }\n",
       "\n",
       "    .dataframe thead th {\n",
       "        text-align: right;\n",
       "    }\n",
       "</style>\n",
       "<table border=\"1\" class=\"dataframe\">\n",
       "  <thead>\n",
       "    <tr style=\"text-align: right;\">\n",
       "      <th></th>\n",
       "      <th>age</th>\n",
       "      <th>gender</th>\n",
       "      <th>height</th>\n",
       "      <th>weight</th>\n",
       "      <th>ap_hi</th>\n",
       "      <th>ap_lo</th>\n",
       "      <th>cholesterol</th>\n",
       "      <th>gluc</th>\n",
       "      <th>smoke</th>\n",
       "      <th>alco</th>\n",
       "      <th>active</th>\n",
       "      <th>cardio</th>\n",
       "      <th>age_year</th>\n",
       "      <th>bmi</th>\n",
       "    </tr>\n",
       "  </thead>\n",
       "  <tbody>\n",
       "    <tr>\n",
       "      <th>0</th>\n",
       "      <td>18393</td>\n",
       "      <td>0</td>\n",
       "      <td>168</td>\n",
       "      <td>62.00000</td>\n",
       "      <td>110</td>\n",
       "      <td>80</td>\n",
       "      <td>1</td>\n",
       "      <td>1</td>\n",
       "      <td>0</td>\n",
       "      <td>0</td>\n",
       "      <td>1</td>\n",
       "      <td>0</td>\n",
       "      <td>50</td>\n",
       "      <td>21.96712</td>\n",
       "    </tr>\n",
       "    <tr>\n",
       "      <th>1</th>\n",
       "      <td>20228</td>\n",
       "      <td>1</td>\n",
       "      <td>156</td>\n",
       "      <td>85.00000</td>\n",
       "      <td>140</td>\n",
       "      <td>90</td>\n",
       "      <td>3</td>\n",
       "      <td>1</td>\n",
       "      <td>0</td>\n",
       "      <td>0</td>\n",
       "      <td>1</td>\n",
       "      <td>1</td>\n",
       "      <td>55</td>\n",
       "      <td>34.92768</td>\n",
       "    </tr>\n",
       "    <tr>\n",
       "      <th>2</th>\n",
       "      <td>18857</td>\n",
       "      <td>1</td>\n",
       "      <td>165</td>\n",
       "      <td>64.00000</td>\n",
       "      <td>130</td>\n",
       "      <td>70</td>\n",
       "      <td>3</td>\n",
       "      <td>1</td>\n",
       "      <td>0</td>\n",
       "      <td>0</td>\n",
       "      <td>0</td>\n",
       "      <td>1</td>\n",
       "      <td>51</td>\n",
       "      <td>23.50781</td>\n",
       "    </tr>\n",
       "    <tr>\n",
       "      <th>3</th>\n",
       "      <td>17623</td>\n",
       "      <td>0</td>\n",
       "      <td>169</td>\n",
       "      <td>82.00000</td>\n",
       "      <td>150</td>\n",
       "      <td>100</td>\n",
       "      <td>1</td>\n",
       "      <td>1</td>\n",
       "      <td>0</td>\n",
       "      <td>0</td>\n",
       "      <td>1</td>\n",
       "      <td>1</td>\n",
       "      <td>48</td>\n",
       "      <td>28.71048</td>\n",
       "    </tr>\n",
       "    <tr>\n",
       "      <th>4</th>\n",
       "      <td>17474</td>\n",
       "      <td>1</td>\n",
       "      <td>156</td>\n",
       "      <td>56.00000</td>\n",
       "      <td>100</td>\n",
       "      <td>60</td>\n",
       "      <td>1</td>\n",
       "      <td>1</td>\n",
       "      <td>0</td>\n",
       "      <td>0</td>\n",
       "      <td>0</td>\n",
       "      <td>0</td>\n",
       "      <td>47</td>\n",
       "      <td>23.01118</td>\n",
       "    </tr>\n",
       "  </tbody>\n",
       "</table>\n",
       "</div>"
      ],
      "text/plain": [
       "     age  gender  height   weight  ap_hi  ap_lo  cholesterol  gluc  smoke  \\\n",
       "0  18393       0     168 62.00000    110     80            1     1      0   \n",
       "1  20228       1     156 85.00000    140     90            3     1      0   \n",
       "2  18857       1     165 64.00000    130     70            3     1      0   \n",
       "3  17623       0     169 82.00000    150    100            1     1      0   \n",
       "4  17474       1     156 56.00000    100     60            1     1      0   \n",
       "\n",
       "   alco  active  cardio  age_year      bmi  \n",
       "0     0       1       0        50 21.96712  \n",
       "1     0       1       1        55 34.92768  \n",
       "2     0       0       1        51 23.50781  \n",
       "3     0       1       1        48 28.71048  \n",
       "4     0       0       0        47 23.01118  "
      ]
     },
     "execution_count": 3,
     "metadata": {},
     "output_type": "execute_result"
    }
   ],
   "source": [
    "cardio_xgb.head()"
   ]
  },
  {
   "cell_type": "code",
   "execution_count": 4,
   "metadata": {},
   "outputs": [],
   "source": [
    "##split the data to 0.7/0.3 ratio\n",
    "train_set, val_set = train_test_split(cardio_xgb, train_size = 0.7, random_state = 9660)"
   ]
  },
  {
   "cell_type": "code",
   "execution_count": 5,
   "metadata": {},
   "outputs": [],
   "source": [
    "## split the label and predictors, drop year_age as it is the same as age\n",
    "train_y = train_set.cardio\n",
    "train_x = train_set.drop(['age_year', 'cardio'], axis =1)\n",
    "val_y = val_set.cardio\n",
    "val_x = val_set.drop(['age_year', 'cardio'], axis =1)"
   ]
  },
  {
   "cell_type": "code",
   "execution_count": 6,
   "metadata": {},
   "outputs": [],
   "source": [
    "params = {\n",
    "    'max_depth' : range(2,8),\n",
    "    'subsample' : [0.6, 0.7, 0.8],\n",
    "    'colsample_bytree' : [0.2, 0.4, 0.5, 0.6, 0.7, 0.8, 1],\n",
    "    'colsample_bynode' : [0.2, 0.4, 0.5, 0.6, 0.7, 0.8, 1],\n",
    "    'n_estimators' : range(100, 400, 50),\n",
    "    'gamma' : range(0,25, 5),\n",
    "    'learning_rate' : [0.05, 0.1, 0.15, 0.2, 0.25, 0.3],\n",
    "    'lambda' : [0.1, 0.25, 0.5, 0.75, 1]\n",
    "}"
   ]
  },
  {
   "cell_type": "code",
   "execution_count": 7,
   "metadata": {},
   "outputs": [],
   "source": [
    "start = time.time()\n",
    "xgb1 = RandomizedSearchCV(xgb.XGBClassifier(use_label_encoder = False, eval_metric = 'logloss'), params, \n",
    "                         n_jobs=4, scoring = 'roc_auc', n_iter = 300, random_state = 9660)\n",
    "xgb1.fit(train_x, train_y)\n",
    "end = time.time()"
   ]
  },
  {
   "cell_type": "code",
   "execution_count": 8,
   "metadata": {},
   "outputs": [
    {
     "name": "stdout",
     "output_type": "stream",
     "text": [
      "the running time for xgboost modelis 4147.976882696152\n"
     ]
    }
   ],
   "source": [
    "print('the running time for xgboost modelis '+str(end-start))"
   ]
  },
  {
   "cell_type": "code",
   "execution_count": 9,
   "metadata": {},
   "outputs": [],
   "source": [
    "##def a function for logistic model evaluation.\n",
    "def tree_eva(x,y,model,train_val):\n",
    "    name = str(train_val)+\"_\"\n",
    "    yhat = model.predict(x)\n",
    "    prob = model.predict_proba(x)\n",
    "    accuracy = metrics.accuracy_score(y, yhat)\n",
    "    precision = metrics.precision_score(y, yhat)\n",
    "    recall = metrics.recall_score(y, yhat)\n",
    "    fpr, tpr, threshold = metrics.roc_curve(y, prob[:,1], pos_label=1)\n",
    "    auc = metrics.auc(fpr, tpr)\n",
    "    f1 = metrics.f1_score(y, yhat)\n",
    "    value_list = [accuracy, precision, recall, auc, f1]\n",
    "    name_list = ['accuracy','precision','recall','auc', 'F1_score']\n",
    "    df = pd.DataFrame(zip(name_list, value_list), columns=['metric','value'])\n",
    "    plt.plot(fpr, tpr)\n",
    "    plt.xlabel(\"FPR\")\n",
    "    plt.ylabel(\"TPR\")\n",
    "    plt.plot([0, 1], [0, 1], color = 'black', linestyle = \"dashed\")\n",
    "    plt.title(str(train_val)+\" set ROC\")\n",
    "    plt.show()\n",
    "    return df"
   ]
  },
  {
   "cell_type": "code",
   "execution_count": 10,
   "metadata": {},
   "outputs": [
    {
     "data": {
      "image/png": "[encoded data removed]",
      "text/plain": [
       "<Figure size 432x288 with 1 Axes>"
      ]
     },
     "metadata": {
      "needs_background": "light"
     },
     "output_type": "display_data"
    },
    {
     "data": {
      "text/html": [
       "<div>\n",
       "<style scoped>\n",
       "    .dataframe tbody tr th:only-of-type {\n",
       "        vertical-align: middle;\n",
       "    }\n",
       "\n",
       "    .dataframe tbody tr th {\n",
       "        vertical-align: top;\n",
       "    }\n",
       "\n",
       "    .dataframe thead th {\n",
       "        text-align: right;\n",
       "    }\n",
       "</style>\n",
       "<table border=\"1\" class=\"dataframe\">\n",
       "  <thead>\n",
       "    <tr style=\"text-align: right;\">\n",
       "      <th></th>\n",
       "      <th>metric</th>\n",
       "      <th>value</th>\n",
       "    </tr>\n",
       "  </thead>\n",
       "  <tbody>\n",
       "    <tr>\n",
       "      <th>0</th>\n",
       "      <td>accuracy</td>\n",
       "      <td>0.73860</td>\n",
       "    </tr>\n",
       "    <tr>\n",
       "      <th>1</th>\n",
       "      <td>precision</td>\n",
       "      <td>0.76226</td>\n",
       "    </tr>\n",
       "    <tr>\n",
       "      <th>2</th>\n",
       "      <td>recall</td>\n",
       "      <td>0.68238</td>\n",
       "    </tr>\n",
       "    <tr>\n",
       "      <th>3</th>\n",
       "      <td>auc</td>\n",
       "      <td>0.80782</td>\n",
       "    </tr>\n",
       "    <tr>\n",
       "      <th>4</th>\n",
       "      <td>F1_score</td>\n",
       "      <td>0.72011</td>\n",
       "    </tr>\n",
       "  </tbody>\n",
       "</table>\n",
       "</div>"
      ],
      "text/plain": [
       "      metric   value\n",
       "0   accuracy 0.73860\n",
       "1  precision 0.76226\n",
       "2     recall 0.68238\n",
       "3        auc 0.80782\n",
       "4   F1_score 0.72011"
      ]
     },
     "execution_count": 10,
     "metadata": {},
     "output_type": "execute_result"
    }
   ],
   "source": [
    "## evaluation for training set\n",
    "xgb1_train_df = tree_eva(x = train_x, y = train_y, model = xgb1, train_val ='train')\n",
    "xgb1_train_df"
   ]
  },
  {
   "cell_type": "code",
   "execution_count": 11,
   "metadata": {},
   "outputs": [
    {
     "data": {
      "image/png": "[encoded data removed]",
      "text/plain": [
       "<Figure size 432x288 with 1 Axes>"
      ]
     },
     "metadata": {
      "needs_background": "light"
     },
     "output_type": "display_data"
    },
    {
     "data": {
      "text/html": [
       "<div>\n",
       "<style scoped>\n",
       "    .dataframe tbody tr th:only-of-type {\n",
       "        vertical-align: middle;\n",
       "    }\n",
       "\n",
       "    .dataframe tbody tr th {\n",
       "        vertical-align: top;\n",
       "    }\n",
       "\n",
       "    .dataframe thead th {\n",
       "        text-align: right;\n",
       "    }\n",
       "</style>\n",
       "<table border=\"1\" class=\"dataframe\">\n",
       "  <thead>\n",
       "    <tr style=\"text-align: right;\">\n",
       "      <th></th>\n",
       "      <th>metric</th>\n",
       "      <th>value</th>\n",
       "    </tr>\n",
       "  </thead>\n",
       "  <tbody>\n",
       "    <tr>\n",
       "      <th>0</th>\n",
       "      <td>accuracy</td>\n",
       "      <td>0.74023</td>\n",
       "    </tr>\n",
       "    <tr>\n",
       "      <th>1</th>\n",
       "      <td>precision</td>\n",
       "      <td>0.75451</td>\n",
       "    </tr>\n",
       "    <tr>\n",
       "      <th>2</th>\n",
       "      <td>recall</td>\n",
       "      <td>0.68154</td>\n",
       "    </tr>\n",
       "    <tr>\n",
       "      <th>3</th>\n",
       "      <td>auc</td>\n",
       "      <td>0.80543</td>\n",
       "    </tr>\n",
       "    <tr>\n",
       "      <th>4</th>\n",
       "      <td>F1_score</td>\n",
       "      <td>0.71617</td>\n",
       "    </tr>\n",
       "  </tbody>\n",
       "</table>\n",
       "</div>"
      ],
      "text/plain": [
       "      metric   value\n",
       "0   accuracy 0.74023\n",
       "1  precision 0.75451\n",
       "2     recall 0.68154\n",
       "3        auc 0.80543\n",
       "4   F1_score 0.71617"
      ]
     },
     "execution_count": 11,
     "metadata": {},
     "output_type": "execute_result"
    }
   ],
   "source": [
    "##evaluation for test set\n",
    "xgb1_test_df = tree_eva(x = val_x, y = val_y, model = xgb1, train_val = 'val')\n",
    "xgb1_test_df"
   ]
  },
  {
   "cell_type": "code",
   "execution_count": 12,
   "metadata": {},
   "outputs": [
    {
     "data": {
      "text/plain": [
       "{'subsample': 0.8,\n",
       " 'n_estimators': 300,\n",
       " 'max_depth': 4,\n",
       " 'learning_rate': 0.05,\n",
       " 'lambda': 0.75,\n",
       " 'gamma': 5,\n",
       " 'colsample_bytree': 0.7,\n",
       " 'colsample_bynode': 0.5}"
      ]
     },
     "execution_count": 12,
     "metadata": {},
     "output_type": "execute_result"
    }
   ],
   "source": [
    "## optimal paramenters for xgboost model\n",
    "xgb1.best_params_"
   ]
  },
  {
   "cell_type": "code",
   "execution_count": 48,
   "metadata": {
    "scrolled": true
   },
   "outputs": [
    {
     "data": {
      "text/html": [
       "<div>\n",
       "<style scoped>\n",
       "    .dataframe tbody tr th:only-of-type {\n",
       "        vertical-align: middle;\n",
       "    }\n",
       "\n",
       "    .dataframe tbody tr th {\n",
       "        vertical-align: top;\n",
       "    }\n",
       "\n",
       "    .dataframe thead th {\n",
       "        text-align: right;\n",
       "    }\n",
       "</style>\n",
       "<table border=\"1\" class=\"dataframe\">\n",
       "  <thead>\n",
       "    <tr style=\"text-align: right;\">\n",
       "      <th></th>\n",
       "      <th>feature</th>\n",
       "      <th>importance</th>\n",
       "    </tr>\n",
       "  </thead>\n",
       "  <tbody>\n",
       "    <tr>\n",
       "      <th>0</th>\n",
       "      <td>ap_hi</td>\n",
       "      <td>0.34005</td>\n",
       "    </tr>\n",
       "    <tr>\n",
       "      <th>1</th>\n",
       "      <td>ap_lo</td>\n",
       "      <td>0.29973</td>\n",
       "    </tr>\n",
       "    <tr>\n",
       "      <th>2</th>\n",
       "      <td>cholesterol</td>\n",
       "      <td>0.12683</td>\n",
       "    </tr>\n",
       "    <tr>\n",
       "      <th>3</th>\n",
       "      <td>age</td>\n",
       "      <td>0.06896</td>\n",
       "    </tr>\n",
       "    <tr>\n",
       "      <th>4</th>\n",
       "      <td>active</td>\n",
       "      <td>0.03038</td>\n",
       "    </tr>\n",
       "    <tr>\n",
       "      <th>5</th>\n",
       "      <td>bmi</td>\n",
       "      <td>0.02563</td>\n",
       "    </tr>\n",
       "    <tr>\n",
       "      <th>6</th>\n",
       "      <td>gluc</td>\n",
       "      <td>0.02300</td>\n",
       "    </tr>\n",
       "    <tr>\n",
       "      <th>7</th>\n",
       "      <td>weight</td>\n",
       "      <td>0.02270</td>\n",
       "    </tr>\n",
       "    <tr>\n",
       "      <th>8</th>\n",
       "      <td>smoke</td>\n",
       "      <td>0.01976</td>\n",
       "    </tr>\n",
       "    <tr>\n",
       "      <th>9</th>\n",
       "      <td>alco</td>\n",
       "      <td>0.01699</td>\n",
       "    </tr>\n",
       "    <tr>\n",
       "      <th>10</th>\n",
       "      <td>gender</td>\n",
       "      <td>0.01455</td>\n",
       "    </tr>\n",
       "    <tr>\n",
       "      <th>11</th>\n",
       "      <td>height</td>\n",
       "      <td>0.01143</td>\n",
       "    </tr>\n",
       "  </tbody>\n",
       "</table>\n",
       "</div>"
      ],
      "text/plain": [
       "        feature  importance\n",
       "0         ap_hi     0.34005\n",
       "1         ap_lo     0.29973\n",
       "2   cholesterol     0.12683\n",
       "3           age     0.06896\n",
       "4        active     0.03038\n",
       "5           bmi     0.02563\n",
       "6          gluc     0.02300\n",
       "7        weight     0.02270\n",
       "8         smoke     0.01976\n",
       "9          alco     0.01699\n",
       "10       gender     0.01455\n",
       "11       height     0.01143"
      ]
     },
     "execution_count": 48,
     "metadata": {},
     "output_type": "execute_result"
    }
   ],
   "source": [
    "## feature importance for xbgboost model\n",
    "xgb1_imp = pd.DataFrame(zip(train_x.columns, xgb1.best_estimator_.feature_importances_), columns= ['feature', 'importance'])\n",
    "xgb1_imp = xgb1_imp.sort_values('importance', ascending = False).reset_index(drop = True)\n",
    "xgb1_imp"
   ]
  },
  {
   "cell_type": "code",
   "execution_count": 52,
   "metadata": {},
   "outputs": [],
   "source": [
    "## define the function for model comparison\n",
    "def model_selection(x,y,model):\n",
    "    thresh = np.round(np.arange(0.01,1, 0.01),2).tolist()\n",
    "    \n",
    "    p_list =[]\n",
    "    r_list =[]\n",
    "    a_list =[]\n",
    "    f_list =[]\n",
    "    prob = model.predict_proba(x)    \n",
    "    for i in thresh:\n",
    "        yhat = [1 if j >= i else 0 for j in prob[:,1]]\n",
    "        \n",
    "        accuracy = metrics.accuracy_score(y, yhat)\n",
    "        precision = metrics.precision_score(y, yhat)\n",
    "        recall = metrics.recall_score(y, yhat)\n",
    "        f1 = metrics.f1_score(y, yhat)\n",
    "    \n",
    "        p_list.append(precision)\n",
    "        r_list.append(recall)\n",
    "        a_list.append(accuracy)\n",
    "        f_list.append(f1)\n",
    "\n",
    "    df = pd.DataFrame(zip(thresh, p_list, r_list, a_list, f_list), \n",
    "                      columns=['threshold','precision','recall','accuracy','F1_score'])\n",
    "    \n",
    "    return df"
   ]
  },
  {
   "cell_type": "code",
   "execution_count": 53,
   "metadata": {},
   "outputs": [
    {
     "name": "stderr",
     "output_type": "stream",
     "text": [
      "C:\\Users\\xianw_000\\anaconda3\\lib\\site-packages\\sklearn\\metrics\\_classification.py:1221: UndefinedMetricWarning: Precision is ill-defined and being set to 0.0 due to no predicted samples. Use `zero_division` parameter to control this behavior.\n",
      "  _warn_prf(average, modifier, msg_start, len(result))\n"
     ]
    },
    {
     "data": {
      "text/html": [
       "<div>\n",
       "<style scoped>\n",
       "    .dataframe tbody tr th:only-of-type {\n",
       "        vertical-align: middle;\n",
       "    }\n",
       "\n",
       "    .dataframe tbody tr th {\n",
       "        vertical-align: top;\n",
       "    }\n",
       "\n",
       "    .dataframe thead th {\n",
       "        text-align: right;\n",
       "    }\n",
       "</style>\n",
       "<table border=\"1\" class=\"dataframe\">\n",
       "  <thead>\n",
       "    <tr style=\"text-align: right;\">\n",
       "      <th></th>\n",
       "      <th>threshold</th>\n",
       "      <th>precision</th>\n",
       "      <th>recall</th>\n",
       "      <th>accuracy</th>\n",
       "      <th>F1_score</th>\n",
       "    </tr>\n",
       "  </thead>\n",
       "  <tbody>\n",
       "    <tr>\n",
       "      <th>0</th>\n",
       "      <td>0.01000</td>\n",
       "      <td>0.49279</td>\n",
       "      <td>1.00000</td>\n",
       "      <td>0.49279</td>\n",
       "      <td>0.66023</td>\n",
       "    </tr>\n",
       "    <tr>\n",
       "      <th>1</th>\n",
       "      <td>0.02000</td>\n",
       "      <td>0.49279</td>\n",
       "      <td>1.00000</td>\n",
       "      <td>0.49279</td>\n",
       "      <td>0.66023</td>\n",
       "    </tr>\n",
       "    <tr>\n",
       "      <th>2</th>\n",
       "      <td>0.03000</td>\n",
       "      <td>0.49279</td>\n",
       "      <td>1.00000</td>\n",
       "      <td>0.49279</td>\n",
       "      <td>0.66023</td>\n",
       "    </tr>\n",
       "    <tr>\n",
       "      <th>3</th>\n",
       "      <td>0.04000</td>\n",
       "      <td>0.49306</td>\n",
       "      <td>1.00000</td>\n",
       "      <td>0.49333</td>\n",
       "      <td>0.66047</td>\n",
       "    </tr>\n",
       "    <tr>\n",
       "      <th>4</th>\n",
       "      <td>0.05000</td>\n",
       "      <td>0.49392</td>\n",
       "      <td>1.00000</td>\n",
       "      <td>0.49508</td>\n",
       "      <td>0.66124</td>\n",
       "    </tr>\n",
       "    <tr>\n",
       "      <th>...</th>\n",
       "      <td>...</td>\n",
       "      <td>...</td>\n",
       "      <td>...</td>\n",
       "      <td>...</td>\n",
       "      <td>...</td>\n",
       "    </tr>\n",
       "    <tr>\n",
       "      <th>94</th>\n",
       "      <td>0.95000</td>\n",
       "      <td>0.00000</td>\n",
       "      <td>0.00000</td>\n",
       "      <td>0.50721</td>\n",
       "      <td>0.00000</td>\n",
       "    </tr>\n",
       "    <tr>\n",
       "      <th>95</th>\n",
       "      <td>0.96000</td>\n",
       "      <td>0.00000</td>\n",
       "      <td>0.00000</td>\n",
       "      <td>0.50721</td>\n",
       "      <td>0.00000</td>\n",
       "    </tr>\n",
       "    <tr>\n",
       "      <th>96</th>\n",
       "      <td>0.97000</td>\n",
       "      <td>0.00000</td>\n",
       "      <td>0.00000</td>\n",
       "      <td>0.50721</td>\n",
       "      <td>0.00000</td>\n",
       "    </tr>\n",
       "    <tr>\n",
       "      <th>97</th>\n",
       "      <td>0.98000</td>\n",
       "      <td>0.00000</td>\n",
       "      <td>0.00000</td>\n",
       "      <td>0.50721</td>\n",
       "      <td>0.00000</td>\n",
       "    </tr>\n",
       "    <tr>\n",
       "      <th>98</th>\n",
       "      <td>0.99000</td>\n",
       "      <td>0.00000</td>\n",
       "      <td>0.00000</td>\n",
       "      <td>0.50721</td>\n",
       "      <td>0.00000</td>\n",
       "    </tr>\n",
       "  </tbody>\n",
       "</table>\n",
       "<p>99 rows × 5 columns</p>\n",
       "</div>"
      ],
      "text/plain": [
       "    threshold  precision  recall  accuracy  F1_score\n",
       "0     0.01000    0.49279 1.00000   0.49279   0.66023\n",
       "1     0.02000    0.49279 1.00000   0.49279   0.66023\n",
       "2     0.03000    0.49279 1.00000   0.49279   0.66023\n",
       "3     0.04000    0.49306 1.00000   0.49333   0.66047\n",
       "4     0.05000    0.49392 1.00000   0.49508   0.66124\n",
       "..        ...        ...     ...       ...       ...\n",
       "94    0.95000    0.00000 0.00000   0.50721   0.00000\n",
       "95    0.96000    0.00000 0.00000   0.50721   0.00000\n",
       "96    0.97000    0.00000 0.00000   0.50721   0.00000\n",
       "97    0.98000    0.00000 0.00000   0.50721   0.00000\n",
       "98    0.99000    0.00000 0.00000   0.50721   0.00000\n",
       "\n",
       "[99 rows x 5 columns]"
      ]
     },
     "execution_count": 53,
     "metadata": {},
     "output_type": "execute_result"
    }
   ],
   "source": [
    "## using xgb1 model to find the best F1_score based on training set.\n",
    "xgb1_metric = model_selection(x = train_x, y = train_y, model = xgb1)\n",
    "xgb1_metric"
   ]
  },
  {
   "cell_type": "code",
   "execution_count": 59,
   "metadata": {},
   "outputs": [
    {
     "data": {
      "text/plain": [
       "Text(0.5, 1.0, 'Model Metrics Vs Probability Threshold')"
      ]
     },
     "execution_count": 59,
     "metadata": {},
     "output_type": "execute_result"
    },
    {
     "data": {
      "image/png": "[encoded data removed]",
      "text/plain": [
       "<Figure size 576x576 with 1 Axes>"
      ]
     },
     "metadata": {
      "needs_background": "light"
     },
     "output_type": "display_data"
    }
   ],
   "source": [
    "##plot precision/recall/accuracy/f-1\n",
    "plt.figure(figsize = (8,8))\n",
    "plt.plot(xgb1_metric.threshold, xgb1_metric.precision, 'b--', label = 'Precision')\n",
    "plt.plot(xgb1_metric.threshold, xgb1_metric.recall, 'g-', label = 'Recall')\n",
    "plt.plot(xgb1_metric.threshold, xgb1_metric.accuracy, 'r-', label = 'Accuracy')\n",
    "plt.plot(xgb1_metric.threshold, xgb1_metric.F1_score, 'black', label = 'F1 Score')\n",
    "plt.vlines(x = 0.36, ymin = 0, ymax = 1, label = 'optimal threshold for F1 score', linestyles = 'dotted')\n",
    "plt.xlabel('Probability threshold')\n",
    "plt.ylabel('Score')\n",
    "plt.legend(loc='best')\n",
    "plt.title(\"Model Metrics Vs Probability Threshold\")"
   ]
  },
  {
   "cell_type": "code",
   "execution_count": 58,
   "metadata": {},
   "outputs": [
    {
     "data": {
      "text/plain": [
       "threshold   0.36000\n",
       "precision   0.67157\n",
       "recall      0.82342\n",
       "accuracy    0.71454\n",
       "F1_score    0.73978\n",
       "Name: 35, dtype: float64"
      ]
     },
     "execution_count": 58,
     "metadata": {},
     "output_type": "execute_result"
    }
   ],
   "source": [
    "## the optimal threshold based on F1_score is 0.36\n",
    "xgb1_metric.iloc[xgb1_metric.F1_score.idxmax()]"
   ]
  },
  {
   "cell_type": "code",
   "execution_count": 46,
   "metadata": {},
   "outputs": [
    {
     "data": {
      "image/png": "[encoded data removed]",
      "text/plain": [
       "<Figure size 432x288 with 2 Axes>"
      ]
     },
     "metadata": {
      "needs_background": "light"
     },
     "output_type": "display_data"
    }
   ],
   "source": [
    "## confusion matrix for the training set when proba threshold is 0.36\n",
    "train_yhat = [1 if i >= 0.36 else 0 for i in xgb1.predict_proba(train_x)[:,1]]\n",
    "train_confusion_matrix = metrics.confusion_matrix(train_y, train_yhat)\n",
    "\n",
    "group_name = ['True neg', 'False Pos', 'False Neg', 'Ture Pos']\n",
    "group_cnt = ['{0:0.0f}'.format(value) for value in train_confusion_matrix.flatten()]\n",
    "group_pct = ['{0:.2%}'.format(value) for value in train_confusion_matrix.flatten()/np.sum(train_confusion_matrix)]\n",
    "\n",
    "labels = [f\"{v1}\\n{v2}\\n{v3}\" for v1, v2, v3 in zip(group_name, group_cnt, group_pct)]\n",
    "labels = np.asarray(labels).reshape(2,2)\n",
    "\n",
    "sns.heatmap(train_confusion_matrix, annot = labels, square = True,\n",
    "            fmt = '', cmap = 'Blues').set_title('Confusion matrix of the training set')\n",
    "plt.show()"
   ]
  },
  {
   "cell_type": "code",
   "execution_count": 18,
   "metadata": {},
   "outputs": [
    {
     "data": {
      "text/plain": [
       "treshold    0.36000\n",
       "precision   0.66493\n",
       "recall      0.81893\n",
       "accuracy    0.71449\n",
       "F1_score    0.73393\n",
       "Name: 0, dtype: float64"
      ]
     },
     "execution_count": 18,
     "metadata": {},
     "output_type": "execute_result"
    }
   ],
   "source": [
    "## calculate metrics for the val set\n",
    "val_prob = xgb1.predict_proba (val_x)\n",
    "val_yhat = [1 if i >= 0.36 else 0 for i in val_prob[:,1]]\n",
    "val_accuracy = metrics.accuracy_score(val_y, val_yhat)\n",
    "val_precision = metrics.precision_score(val_y, val_yhat)\n",
    "val_recall = metrics.recall_score(val_y, val_yhat)\n",
    "val_f1 = metrics.f1_score(val_y, val_yhat)\n",
    "xgb1_val_metric= pd.DataFrame({'treshold':[0.36], 'precision':[val_precision], 'recall':[val_recall], 'accuracy':[val_accuracy], 'F1_score':[val_f1]}\n",
    "                              )\n",
    "xgb1_val_metric"
   ]
  },
  {
   "cell_type": "code",
   "execution_count": 45,
   "metadata": {},
   "outputs": [
    {
     "data": {
      "image/png": "[encoded data removed]",
      "text/plain": [
       "<Figure size 432x288 with 2 Axes>"
      ]
     },
     "metadata": {
      "needs_background": "light"
     },
     "output_type": "display_data"
    }
   ],
   "source": [
    "## confusion matrix for the validation set when proba threshold is 0.36\n",
    "val_confusion_matrix = metrics.confusion_matrix(val_y, val_yhat)\n",
    "\n",
    "val_group_cnt = ['{0:0.0f}'.format(value) for value in val_confusion_matrix.flatten()]\n",
    "val_group_pct = ['{0:.2%}'.format(value) for value in val_confusion_matrix.flatten()/np.sum(val_confusion_matrix)]\n",
    "\n",
    "val_labels = [f\"{v1}\\n{v2}\\n{v3}\" for v1, v2, v3 in zip(group_name, val_group_cnt, val_group_pct)]\n",
    "val_labels = np.asarray(val_labels).reshape(2,2)\n",
    "\n",
    "sns.heatmap(val_confusion_matrix, annot = val_labels, square = True,\n",
    "            fmt = '', cmap = \"Blues\").set_title('Confusion matrix of the validation set')\n",
    "plt.show()"
   ]
  },
  {
   "cell_type": "markdown",
   "metadata": {},
   "source": [
    "### The optimal threshold of probability based on F-1 score is 0.36. The best F-1 score is 0.73978 for the training set and 0.73393 for the validation set."
   ]
  },
  {
   "cell_type": "code",
   "execution_count": null,
   "metadata": {},
   "outputs": [],
   "source": []
  }
 ],
 "metadata": {
  "kernelspec": {
   "display_name": "Python 3",
   "language": "python",
   "name": "python3"
  },
  "language_info": {
   "codemirror_mode": {
    "name": "ipython",
    "version": 3
   },
   "file_extension": ".py",
   "mimetype": "text/x-python",
   "name": "python",
   "nbconvert_exporter": "python",
   "pygments_lexer": "ipython3",
   "version": "3.8.3"
  }
 },
 "nbformat": 4,
 "nbformat_minor": 4
}
